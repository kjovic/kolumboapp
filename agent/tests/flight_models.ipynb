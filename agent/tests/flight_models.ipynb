{
 "cells": [
  {
   "cell_type": "code",
   "execution_count": 7,
   "id": "b379e36c",
   "metadata": {},
   "outputs": [
    {
     "ename": "ModuleNotFoundError",
     "evalue": "No module named 'models'",
     "output_type": "error",
     "traceback": [
      "\u001b[31m---------------------------------------------------------------------------\u001b[39m",
      "\u001b[31mModuleNotFoundError\u001b[39m                       Traceback (most recent call last)",
      "\u001b[36mCell\u001b[39m\u001b[36m \u001b[39m\u001b[32mIn[7]\u001b[39m\u001b[32m, line 2\u001b[39m\n\u001b[32m      1\u001b[39m \u001b[38;5;28;01mimport\u001b[39;00m\u001b[38;5;250m \u001b[39m\u001b[34;01mjson\u001b[39;00m\n\u001b[32m----> \u001b[39m\u001b[32m2\u001b[39m \u001b[38;5;28;01mfrom\u001b[39;00m\u001b[38;5;250m \u001b[39m\u001b[34;01mmodels\u001b[39;00m\u001b[34;01m.\u001b[39;00m\u001b[34;01mflights\u001b[39;00m\u001b[38;5;250m \u001b[39m\u001b[38;5;28;01mimport\u001b[39;00m Root  \u001b[38;5;66;03m# pretpostavljam da si spremio prethodne modele kao 'models.py'\u001b[39;00m\n\u001b[32m      4\u001b[39m \u001b[38;5;66;03m# Učitaj tvoj JSON (može biti iz fajla ili responsea)\u001b[39;00m\n\u001b[32m      5\u001b[39m \u001b[38;5;28;01mwith\u001b[39;00m \u001b[38;5;28mopen\u001b[39m(\u001b[33m\"\u001b[39m\u001b[33mskyscan.json\u001b[39m\u001b[33m\"\u001b[39m, \u001b[33m\"\u001b[39m\u001b[33mr\u001b[39m\u001b[33m\"\u001b[39m) \u001b[38;5;28;01mas\u001b[39;00m f:\n",
      "\u001b[31mModuleNotFoundError\u001b[39m: No module named 'models'"
     ]
    }
   ],
   "source": [
    "import json\n",
    "from models.flights import Root  # pretpostavljam da si spremio prethodne modele kao 'models.py'\n",
    "\n",
    "# Učitaj tvoj JSON (može biti iz fajla ili responsea)\n",
    "with open(\"skyscan.json\", \"r\") as f:\n",
    "    raw_json = json.load(f)\n",
    "\n",
    "# Parsiranje kroz pydantic\n",
    "parsed_data = [Root(**item) for item in raw_json]\n",
    "\n",
    "# Primjer pristupa podacima\n",
    "flight = parsed_data[0].data[0]\n",
    "\n",
    "print(\"Cijena leta:\", flight.price.formatted)\n",
    "print(\"Aviokompanija:\", flight.vendor)\n",
    "print(\"Let od\", flight.legs[0].origin.city, \"do\", flight.legs[0].destination.city)\n",
    "print(\"Trajanje prvog leta:\", flight.legs[0].durationInMinutes, \"minuta\")\n",
    "print(\"Datum polaska prvog leta:\", flight.legs[0].departure)\n",
    "print(\"Link za booking:\", flight.url)"
   ]
  },
  {
   "cell_type": "code",
   "execution_count": null,
   "id": "e3abbb26",
   "metadata": {},
   "outputs": [],
   "source": []
  }
 ],
 "metadata": {
  "kernelspec": {
   "display_name": "venv",
   "language": "python",
   "name": "python3"
  },
  "language_info": {
   "codemirror_mode": {
    "name": "ipython",
    "version": 3
   },
   "file_extension": ".py",
   "mimetype": "text/x-python",
   "name": "python",
   "nbconvert_exporter": "python",
   "pygments_lexer": "ipython3",
   "version": "3.13.2"
  }
 },
 "nbformat": 4,
 "nbformat_minor": 5
}
